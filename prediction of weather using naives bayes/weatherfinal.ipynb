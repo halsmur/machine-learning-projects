{
 "cells": [
  {
   "cell_type": "code",
   "execution_count": 21,
   "id": "1c696987",
   "metadata": {},
   "outputs": [
    {
     "data": {
      "text/plain": [
       "'C:\\\\Users\\\\Leem'"
      ]
     },
     "execution_count": 21,
     "metadata": {},
     "output_type": "execute_result"
    }
   ],
   "source": [
    "import os\n",
    "os.getcwd()"
   ]
  },
  {
   "cell_type": "code",
   "execution_count": 22,
   "id": "d12be7bf",
   "metadata": {},
   "outputs": [
    {
     "name": "stdout",
     "output_type": "stream",
     "text": [
      "               Day   outlook temperature Decision\n",
      "0                1     sunny         hot       No\n",
      "1                2     sunny         hot       No\n",
      "2                3  overcast         hot      Yes\n",
      "3                4  rainfall        mild      Yes\n",
      "4                5  rainfall        cool      Yes\n",
      "5                6  rainfall        cool       No\n",
      "6                7  overcast        cool      Yes\n",
      "7                8     sunny        mild       No\n",
      "8                9     sunny        cool      Yes\n",
      "9               10  rainfall        mild      Yes\n",
      "10              11     sunny        mild      Yes\n",
      "11              12  overcast        mild      Yes\n",
      "12              13  overcast         hot      Yes\n",
      "13              14  rainfall        mild       No\n",
      "\n",
      "Keys of weather:\n",
      "Index(['           Day', 'outlook', 'temperature', 'Decision'], dtype='object')\n",
      "\n",
      "Number of rows and columns of  weather:\n"
     ]
    }
   ],
   "source": [
    "from sklearn.metrics import confusion_matrix\n",
    "import matplotlib.pyplot as plt\n",
    "import sklearn\n",
    "import pandas as pd\n",
    "import seaborn as sns;sns.set()\n",
    "import numpy as np\n",
    "import matplotlib.pyplot as plt\n",
    "import sklearn\n",
    "import pandas as pd\n",
    "import random\n",
    "weather = pd.read_excel('C:\\\\Users\\\\Leem\\\\Documents\\\\z.xlsx')\n",
    "print(weather)\n",
    "print(\"\\nKeys of weather:\")\n",
    "print(weather.keys())\n",
    "print(\"\\nNumber of rows and columns of  weather:\")"
   ]
  },
  {
   "cell_type": "code",
   "execution_count": 32,
   "id": "6206044c",
   "metadata": {},
   "outputs": [
    {
     "name": "stdout",
     "output_type": "stream",
     "text": [
      "[2 2 0 1 1 1 0 2 2 1 2 0 0 1]\n"
     ]
    },
    {
     "name": "stderr",
     "output_type": "stream",
     "text": [
      "<ipython-input-32-8c49870149c8>:6: UserWarning: Pandas doesn't allow columns to be created via a new attribute name - see https://pandas.pydata.org/pandas-docs/stable/indexing.html#attribute-access\n",
      "  weather.outlook_encoded=le.fit_transform(weather.outlook)\n"
     ]
    }
   ],
   "source": [
    "# Import LabelEncoder\n",
    "from sklearn import preprocessing\n",
    "#creating labelEncoder\n",
    "le = preprocessing.LabelEncoder()\n",
    "# Converting string labels into numbers.\n",
    "weather.outlook_encoded=le.fit_transform(weather.outlook)\n",
    "print (weather.outlook_encoded)"
   ]
  },
  {
   "cell_type": "code",
   "execution_count": 38,
   "id": "0d64a3ac",
   "metadata": {},
   "outputs": [
    {
     "name": "stdout",
     "output_type": "stream",
     "text": [
      "weather.temperature: [1 1 1 2 0 0 0 2 0 2 2 2 1 2]\n",
      "weather.Decision: [0 0 1 1 1 0 1 0 1 1 1 1 1 0]\n"
     ]
    }
   ],
   "source": [
    "# Converting string labels into numbers\n",
    "weather.temperature_encoded=le.fit_transform(weather.temperature)\n",
    "label=le.fit_transform(weather.Decision)\n",
    "print (\"weather.temperature:\",weather.temperature_encoded)\n",
    "print (\"weather.Decision:\",label)"
   ]
  },
  {
   "cell_type": "code",
   "execution_count": 40,
   "id": "64d2a5d5",
   "metadata": {},
   "outputs": [
    {
     "name": "stdout",
     "output_type": "stream",
     "text": [
      "[(2, 1), (2, 1), (0, 1), (1, 2), (1, 0), (1, 0), (0, 0), (2, 2), (2, 0), (1, 2), (2, 2), (0, 2), (0, 1), (1, 2)]\n"
     ]
    }
   ],
   "source": [
    "#Combinig weather and temp into single listof tuples\n",
    "features=list(zip(weather.outlook_encoded,weather.temperature_encoded))\n",
    "print (features)"
   ]
  },
  {
   "cell_type": "code",
   "execution_count": 42,
   "id": "40708fa6",
   "metadata": {},
   "outputs": [
    {
     "name": "stdout",
     "output_type": "stream",
     "text": [
      "Predicted Value: [1]\n"
     ]
    }
   ],
   "source": [
    "#Import Gaussian Naive Bayes model\n",
    "from sklearn.naive_bayes import GaussianNB\n",
    "\n",
    "#Create a Gaussian Classifier\n",
    "model = GaussianNB()\n",
    "\n",
    "# Train the model using the training sets\n",
    "model.fit(features,label)\n",
    "\n",
    "#Predict Output\n",
    "predicted= model.predict([[0,2]]) # 0:Overcast, 2:Mild\n",
    "print (\"Predicted Value:\", predicted)"
   ]
  },
  {
   "cell_type": "code",
   "execution_count": null,
   "id": "5126e1fa",
   "metadata": {},
   "outputs": [],
   "source": []
  }
 ],
 "metadata": {
  "kernelspec": {
   "display_name": "Python 3",
   "language": "python",
   "name": "python3"
  },
  "language_info": {
   "codemirror_mode": {
    "name": "ipython",
    "version": 3
   },
   "file_extension": ".py",
   "mimetype": "text/x-python",
   "name": "python",
   "nbconvert_exporter": "python",
   "pygments_lexer": "ipython3",
   "version": "3.8.8"
  }
 },
 "nbformat": 4,
 "nbformat_minor": 5
}
